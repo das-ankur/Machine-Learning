{
  "nbformat": 4,
  "nbformat_minor": 0,
  "metadata": {
    "colab": {
      "name": "DecisionTree.ipynb",
      "provenance": []
    },
    "kernelspec": {
      "name": "python3",
      "display_name": "Python 3"
    }
  },
  "cells": [
    {
      "cell_type": "code",
      "metadata": {
        "id": "Y9B6glm-jB7S"
      },
      "source": [
        "import numpy as np\n",
        "import pandas as pd\n",
        "import matplotlib.pyplot as plt\n",
        "import seaborn as sns"
      ],
      "execution_count": 30,
      "outputs": []
    },
    {
      "cell_type": "code",
      "metadata": {
        "id": "3HG84FfbjVXw",
        "outputId": "159f2e1a-8618-4e33-8a3d-46fdcfed4f45",
        "colab": {
          "base_uri": "https://localhost:8080/"
        }
      },
      "source": [
        "df=pd.read_csv('DecisionTree.csv')\n",
        "print(df)"
      ],
      "execution_count": 31,
      "outputs": [
        {
          "output_type": "stream",
          "text": [
            "            Position  Level   Salary\n",
            "0   Business Analyst      1    45000\n",
            "1  Junior Consultant      2    50000\n",
            "2  Senior Consultant      3    60000\n",
            "3            Manager      4    80000\n",
            "4    Country Manager      5   110000\n",
            "5     Region Manager      6   150000\n",
            "6            Partner      7   200000\n",
            "7     Senior Partner      8   300000\n",
            "8            C-level      9   500000\n",
            "9                CEO     10  1000000\n"
          ],
          "name": "stdout"
        }
      ]
    },
    {
      "cell_type": "code",
      "metadata": {
        "id": "IfHDKtcyjpOz",
        "outputId": "8771dcb9-980b-47ee-c364-8c825f5f2a0f",
        "colab": {
          "base_uri": "https://localhost:8080/",
          "height": 214
        }
      },
      "source": [
        "sns.pairplot(data=df, x_vars=['Position','Level'], y_vars=['Salary']) #the dataset is a non-linear dataset"
      ],
      "execution_count": 32,
      "outputs": [
        {
          "output_type": "execute_result",
          "data": {
            "text/plain": [
              "<seaborn.axisgrid.PairGrid at 0x7f6285995390>"
            ]
          },
          "metadata": {
            "tags": []
          },
          "execution_count": 32
        },
        {
          "output_type": "display_data",
          "data": {
            "image/png": "[encoded data removed]",
            "text/plain": [
              "<Figure size 360x180 with 2 Axes>"
            ]
          },
          "metadata": {
            "tags": [],
            "needs_background": "light"
          }
        }
      ]
    },
    {
      "cell_type": "code",
      "metadata": {
        "id": "_EvIdZ3HkdhL",
        "outputId": "cf2260ff-7f25-4fab-b16f-8a26261eab65",
        "colab": {
          "base_uri": "https://localhost:8080/"
        }
      },
      "source": [
        "x=df.iloc[:,1:-1].values\n",
        "y=df.iloc[:,-1].values\n",
        "print(x)\n",
        "print(y)"
      ],
      "execution_count": 33,
      "outputs": [
        {
          "output_type": "stream",
          "text": [
            "[[ 1]\n",
            " [ 2]\n",
            " [ 3]\n",
            " [ 4]\n",
            " [ 5]\n",
            " [ 6]\n",
            " [ 7]\n",
            " [ 8]\n",
            " [ 9]\n",
            " [10]]\n",
            "[  45000   50000   60000   80000  110000  150000  200000  300000  500000\n",
            " 1000000]\n"
          ],
          "name": "stdout"
        }
      ]
    },
    {
      "cell_type": "code",
      "metadata": {
        "id": "z0xWAx0dkpO5",
        "outputId": "6de25fb0-5060-47f1-ca3b-5925fc035274",
        "colab": {
          "base_uri": "https://localhost:8080/"
        }
      },
      "source": [
        "#since the datset is very small we will be using the total datset for training\n",
        "from sklearn.tree import DecisionTreeRegressor\n",
        "dr=DecisionTreeRegressor(random_state=42)\n",
        "dr.fit(x, y)"
      ],
      "execution_count": 34,
      "outputs": [
        {
          "output_type": "execute_result",
          "data": {
            "text/plain": [
              "DecisionTreeRegressor(ccp_alpha=0.0, criterion='mse', max_depth=None,\n",
              "                      max_features=None, max_leaf_nodes=None,\n",
              "                      min_impurity_decrease=0.0, min_impurity_split=None,\n",
              "                      min_samples_leaf=1, min_samples_split=2,\n",
              "                      min_weight_fraction_leaf=0.0, presort='deprecated',\n",
              "                      random_state=42, splitter='best')"
            ]
          },
          "metadata": {
            "tags": []
          },
          "execution_count": 34
        }
      ]
    },
    {
      "cell_type": "code",
      "metadata": {
        "id": "P0eaBKOwl44W",
        "outputId": "733d44fb-a000-4db8-bb84-e5f926444fbb",
        "colab": {
          "base_uri": "https://localhost:8080/"
        }
      },
      "source": [
        "#since we do not have any test example we will create ours\n",
        "c=np.array([[6.5], [7.5]])\n",
        "c.reshape(2,1)\n",
        "print(c)"
      ],
      "execution_count": 35,
      "outputs": [
        {
          "output_type": "stream",
          "text": [
            "[[6.5]\n",
            " [7.5]]\n"
          ],
          "name": "stdout"
        }
      ]
    },
    {
      "cell_type": "code",
      "metadata": {
        "id": "B8fM_SNloA5S",
        "outputId": "00953d50-7e93-4f1e-db93-26a64af9c59d",
        "colab": {
          "base_uri": "https://localhost:8080/"
        }
      },
      "source": [
        "y_pred=dr.predict(c)\n",
        "print(y_pred)\n",
        "#This is the limitation of decision tree, because changing the random-state is not effecting the y_pred\n",
        "#To increase the accuracy we can use random forest algorithm here"
      ],
      "execution_count": 36,
      "outputs": [
        {
          "output_type": "stream",
          "text": [
            "[150000. 200000.]\n"
          ],
          "name": "stdout"
        }
      ]
    },
    {
      "cell_type": "code",
      "metadata": {
        "id": "ZUhEDZd6p2DJ",
        "outputId": "ebbf0cf9-ef34-4fa2-d1d4-50f2c0314f5b",
        "colab": {
          "base_uri": "https://localhost:8080/",
          "height": 276
        }
      },
      "source": [
        "plt.scatter(x, y, c='red')\n",
        "plt.plot(x, dr.predict(x), c='blue')\n",
        "plt.show()"
      ],
      "execution_count": 37,
      "outputs": [
        {
          "output_type": "display_data",
          "data": {
            "image/png": "[encoded data removed]",
            "text/plain": [
              "<Figure size 432x288 with 1 Axes>"
            ]
          },
          "metadata": {
            "tags": [],
            "needs_background": "light"
          }
        }
      ]
    }
  ]
}